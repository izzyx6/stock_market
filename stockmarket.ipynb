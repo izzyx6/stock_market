{
 "cells": [
  {
   "cell_type": "code",
   "execution_count": 159,
   "metadata": {},
   "outputs": [],
   "source": [
    "#import library for handling the dataset\n",
    "import pandas as pd\n",
    "import numpy as np\n",
    "\n",
    "#importing library for virtualization\n",
    "import matplotlib.pyplot as plt\n",
    "\n",
    "#importing minmax for scaling the dataset\n",
    "from sklearn.preprocessing import MinMaxScaler\n",
    "plt.style.use('fivethirtyeight')\n",
    "#importing keras for creating model\n",
    "from keras import Sequential\n",
    "from keras.layers import Dense, LSTM,Dropout\n",
    "%matplotlib inline"
   ]
  },
  {
   "cell_type": "code",
   "execution_count": 160,
   "metadata": {},
   "outputs": [
    {
     "data": {
      "text/html": [
       "<div>\n",
       "<style scoped>\n",
       "    .dataframe tbody tr th:only-of-type {\n",
       "        vertical-align: middle;\n",
       "    }\n",
       "\n",
       "    .dataframe tbody tr th {\n",
       "        vertical-align: top;\n",
       "    }\n",
       "\n",
       "    .dataframe thead th {\n",
       "        text-align: right;\n",
       "    }\n",
       "</style>\n",
       "<table border=\"1\" class=\"dataframe\">\n",
       "  <thead>\n",
       "    <tr style=\"text-align: right;\">\n",
       "      <th></th>\n",
       "      <th>Open</th>\n",
       "      <th>High</th>\n",
       "      <th>Low</th>\n",
       "      <th>Close</th>\n",
       "      <th>Adj Close</th>\n",
       "      <th>Volume</th>\n",
       "    </tr>\n",
       "    <tr>\n",
       "      <th>Date</th>\n",
       "      <th></th>\n",
       "      <th></th>\n",
       "      <th></th>\n",
       "      <th></th>\n",
       "      <th></th>\n",
       "      <th></th>\n",
       "    </tr>\n",
       "  </thead>\n",
       "  <tbody>\n",
       "    <tr>\n",
       "      <th>2000-01-03</th>\n",
       "      <td>3.745536</td>\n",
       "      <td>4.017857</td>\n",
       "      <td>3.631696</td>\n",
       "      <td>3.997768</td>\n",
       "      <td>3.460857</td>\n",
       "      <td>133949200</td>\n",
       "    </tr>\n",
       "    <tr>\n",
       "      <th>2000-01-04</th>\n",
       "      <td>3.866071</td>\n",
       "      <td>3.950893</td>\n",
       "      <td>3.613839</td>\n",
       "      <td>3.660714</td>\n",
       "      <td>3.169071</td>\n",
       "      <td>128094400</td>\n",
       "    </tr>\n",
       "    <tr>\n",
       "      <th>2000-01-05</th>\n",
       "      <td>3.705357</td>\n",
       "      <td>3.948661</td>\n",
       "      <td>3.678571</td>\n",
       "      <td>3.714286</td>\n",
       "      <td>3.215448</td>\n",
       "      <td>194580400</td>\n",
       "    </tr>\n",
       "    <tr>\n",
       "      <th>2000-01-06</th>\n",
       "      <td>3.790179</td>\n",
       "      <td>3.821429</td>\n",
       "      <td>3.392857</td>\n",
       "      <td>3.392857</td>\n",
       "      <td>2.937188</td>\n",
       "      <td>191993200</td>\n",
       "    </tr>\n",
       "    <tr>\n",
       "      <th>2000-01-07</th>\n",
       "      <td>3.446429</td>\n",
       "      <td>3.607143</td>\n",
       "      <td>3.410714</td>\n",
       "      <td>3.553571</td>\n",
       "      <td>3.076317</td>\n",
       "      <td>115183600</td>\n",
       "    </tr>\n",
       "  </tbody>\n",
       "</table>\n",
       "</div>"
      ],
      "text/plain": [
       "                Open      High       Low     Close  Adj Close     Volume\n",
       "Date                                                                    \n",
       "2000-01-03  3.745536  4.017857  3.631696  3.997768   3.460857  133949200\n",
       "2000-01-04  3.866071  3.950893  3.613839  3.660714   3.169071  128094400\n",
       "2000-01-05  3.705357  3.948661  3.678571  3.714286   3.215448  194580400\n",
       "2000-01-06  3.790179  3.821429  3.392857  3.392857   2.937188  191993200\n",
       "2000-01-07  3.446429  3.607143  3.410714  3.553571   3.076317  115183600"
      ]
     },
     "execution_count": 160,
     "metadata": {},
     "output_type": "execute_result"
    }
   ],
   "source": [
    "#readin the dataset\n",
    "df = pd.read_csv('AAPL.csv', index_col='Date', parse_dates=['Date'])\n",
    "df.head()#getting the first 5 rows in the datset"
   ]
  },
  {
   "cell_type": "code",
   "execution_count": 161,
   "metadata": {},
   "outputs": [
    {
     "data": {
      "text/plain": [
       "Open         0\n",
       "High         0\n",
       "Low          0\n",
       "Close        0\n",
       "Adj Close    0\n",
       "Volume       0\n",
       "dtype: int64"
      ]
     },
     "execution_count": 161,
     "metadata": {},
     "output_type": "execute_result"
    }
   ],
   "source": [
    "#checking null values\n",
    "df.isnull().sum()"
   ]
  },
  {
   "cell_type": "code",
   "execution_count": 162,
   "metadata": {},
   "outputs": [
    {
     "name": "stdout",
     "output_type": "stream",
     "text": [
      "<class 'pandas.core.frame.DataFrame'>\n",
      "DatetimeIndex: 5178 entries, 2000-01-03 to 2020-07-31\n",
      "Data columns (total 6 columns):\n",
      " #   Column     Non-Null Count  Dtype  \n",
      "---  ------     --------------  -----  \n",
      " 0   Open       5178 non-null   float64\n",
      " 1   High       5178 non-null   float64\n",
      " 2   Low        5178 non-null   float64\n",
      " 3   Close      5178 non-null   float64\n",
      " 4   Adj Close  5178 non-null   float64\n",
      " 5   Volume     5178 non-null   int64  \n",
      "dtypes: float64(5), int64(1)\n",
      "memory usage: 283.2 KB\n"
     ]
    }
   ],
   "source": [
    "\n",
    "#getting the info of the datset\n",
    "df.info()"
   ]
  },
  {
   "cell_type": "code",
   "execution_count": 163,
   "metadata": {},
   "outputs": [
    {
     "data": {
      "text/html": [
       "<div>\n",
       "<style scoped>\n",
       "    .dataframe tbody tr th:only-of-type {\n",
       "        vertical-align: middle;\n",
       "    }\n",
       "\n",
       "    .dataframe tbody tr th {\n",
       "        vertical-align: top;\n",
       "    }\n",
       "\n",
       "    .dataframe thead th {\n",
       "        text-align: right;\n",
       "    }\n",
       "</style>\n",
       "<table border=\"1\" class=\"dataframe\">\n",
       "  <thead>\n",
       "    <tr style=\"text-align: right;\">\n",
       "      <th></th>\n",
       "      <th>Open</th>\n",
       "      <th>High</th>\n",
       "      <th>Low</th>\n",
       "      <th>Close</th>\n",
       "      <th>Adj Close</th>\n",
       "      <th>Volume</th>\n",
       "    </tr>\n",
       "  </thead>\n",
       "  <tbody>\n",
       "    <tr>\n",
       "      <th>count</th>\n",
       "      <td>5178.000000</td>\n",
       "      <td>5178.000000</td>\n",
       "      <td>5178.000000</td>\n",
       "      <td>5178.000000</td>\n",
       "      <td>5178.000000</td>\n",
       "      <td>5.178000e+03</td>\n",
       "    </tr>\n",
       "    <tr>\n",
       "      <th>mean</th>\n",
       "      <td>66.694925</td>\n",
       "      <td>67.378840</td>\n",
       "      <td>66.024528</td>\n",
       "      <td>66.732109</td>\n",
       "      <td>62.842278</td>\n",
       "      <td>1.128659e+08</td>\n",
       "    </tr>\n",
       "    <tr>\n",
       "      <th>std</th>\n",
       "      <td>76.799152</td>\n",
       "      <td>77.638758</td>\n",
       "      <td>76.077802</td>\n",
       "      <td>76.922891</td>\n",
       "      <td>75.824526</td>\n",
       "      <td>9.816641e+07</td>\n",
       "    </tr>\n",
       "    <tr>\n",
       "      <th>min</th>\n",
       "      <td>0.927857</td>\n",
       "      <td>0.942143</td>\n",
       "      <td>0.908571</td>\n",
       "      <td>0.937143</td>\n",
       "      <td>0.811282</td>\n",
       "      <td>9.835000e+06</td>\n",
       "    </tr>\n",
       "    <tr>\n",
       "      <th>25%</th>\n",
       "      <td>5.230357</td>\n",
       "      <td>5.321429</td>\n",
       "      <td>5.149643</td>\n",
       "      <td>5.206786</td>\n",
       "      <td>4.507500</td>\n",
       "      <td>4.552265e+07</td>\n",
       "    </tr>\n",
       "    <tr>\n",
       "      <th>50%</th>\n",
       "      <td>34.552858</td>\n",
       "      <td>34.932856</td>\n",
       "      <td>34.161428</td>\n",
       "      <td>34.625000</td>\n",
       "      <td>29.974771</td>\n",
       "      <td>8.493870e+07</td>\n",
       "    </tr>\n",
       "    <tr>\n",
       "      <th>75%</th>\n",
       "      <td>107.179998</td>\n",
       "      <td>108.000000</td>\n",
       "      <td>106.175001</td>\n",
       "      <td>107.077501</td>\n",
       "      <td>99.700114</td>\n",
       "      <td>1.494066e+08</td>\n",
       "    </tr>\n",
       "    <tr>\n",
       "      <th>max</th>\n",
       "      <td>411.540009</td>\n",
       "      <td>425.660004</td>\n",
       "      <td>403.299988</td>\n",
       "      <td>425.040009</td>\n",
       "      <td>425.040009</td>\n",
       "      <td>1.855410e+09</td>\n",
       "    </tr>\n",
       "  </tbody>\n",
       "</table>\n",
       "</div>"
      ],
      "text/plain": [
       "              Open         High          Low        Close    Adj Close  \\\n",
       "count  5178.000000  5178.000000  5178.000000  5178.000000  5178.000000   \n",
       "mean     66.694925    67.378840    66.024528    66.732109    62.842278   \n",
       "std      76.799152    77.638758    76.077802    76.922891    75.824526   \n",
       "min       0.927857     0.942143     0.908571     0.937143     0.811282   \n",
       "25%       5.230357     5.321429     5.149643     5.206786     4.507500   \n",
       "50%      34.552858    34.932856    34.161428    34.625000    29.974771   \n",
       "75%     107.179998   108.000000   106.175001   107.077501    99.700114   \n",
       "max     411.540009   425.660004   403.299988   425.040009   425.040009   \n",
       "\n",
       "             Volume  \n",
       "count  5.178000e+03  \n",
       "mean   1.128659e+08  \n",
       "std    9.816641e+07  \n",
       "min    9.835000e+06  \n",
       "25%    4.552265e+07  \n",
       "50%    8.493870e+07  \n",
       "75%    1.494066e+08  \n",
       "max    1.855410e+09  "
      ]
     },
     "execution_count": 163,
     "metadata": {},
     "output_type": "execute_result"
    }
   ],
   "source": [
    "'''\n",
    "using the .describe() to get the\n",
    "statistical properties of the \n",
    "dataset as can be seen be low\n",
    "'''\n",
    "df.describe()"
   ]
  },
  {
   "cell_type": "code",
   "execution_count": 164,
   "metadata": {},
   "outputs": [
    {
     "data": {
      "image/png": "[encoded data removed]",
      "text/plain": [
       "<Figure size 1152x360 with 1 Axes>"
      ]
     },
     "metadata": {
      "needs_background": "light"
     },
     "output_type": "display_data"
    }
   ],
   "source": [
    "df[['Close']].plot(figsize=(16,5))\n",
    "plt.title(\"Closing Prices\")\n",
    "plt.ylabel(\"Price\")\n",
    "plt.show()"
   ]
  },
  {
   "cell_type": "code",
   "execution_count": 165,
   "metadata": {},
   "outputs": [
    {
     "data": {
      "image/png": "[encoded data removed]",
      "text/plain": [
       "<Figure size 1152x360 with 1 Axes>"
      ]
     },
     "metadata": {
      "needs_background": "light"
     },
     "output_type": "display_data"
    }
   ],
   "source": [
    "#We have chosen 'Close' attribute for prices. Let's see what it looks like\n",
    "df['Close'][:'2016'].plot(figsize=(16,5))\n",
    "df['Close']['2017':].plot(figsize=(16,5))\n",
    "plt.legend(['Before 2017 (Training Set)','2017 And Beyond (Test Set)'])\n",
    "plt.title('APPLE Stock Price')\n",
    "plt.show()"
   ]
  },
  {
   "cell_type": "code",
   "execution_count": 166,
   "metadata": {},
   "outputs": [
    {
     "data": {
      "text/plain": [
       "'\\nshape of the dataset df.shape[0] gives the row,\\ndf.shape[1] gives the column\\n'"
      ]
     },
     "execution_count": 166,
     "metadata": {},
     "output_type": "execute_result"
    }
   ],
   "source": [
    "df.shape\n",
    "'''\n",
    "shape of the dataset df.shape[0] gives the row,\n",
    "df.shape[1] gives the column\n",
    "'''"
   ]
  },
  {
   "cell_type": "code",
   "execution_count": 167,
   "metadata": {},
   "outputs": [],
   "source": [
    "df.drop(['Adj Close'], axis =1,inplace=True)\n",
    "train_data = df[:'2014'].copy()\n",
    "test_data = df['2015':].copy()   \n",
    "#df_tail = df.tail(7)   "
   ]
  },
  {
   "cell_type": "code",
   "execution_count": 168,
   "metadata": {},
   "outputs": [
    {
     "data": {
      "text/html": [
       "<div>\n",
       "<style scoped>\n",
       "    .dataframe tbody tr th:only-of-type {\n",
       "        vertical-align: middle;\n",
       "    }\n",
       "\n",
       "    .dataframe tbody tr th {\n",
       "        vertical-align: top;\n",
       "    }\n",
       "\n",
       "    .dataframe thead th {\n",
       "        text-align: right;\n",
       "    }\n",
       "</style>\n",
       "<table border=\"1\" class=\"dataframe\">\n",
       "  <thead>\n",
       "    <tr style=\"text-align: right;\">\n",
       "      <th></th>\n",
       "      <th>Open</th>\n",
       "      <th>High</th>\n",
       "      <th>Low</th>\n",
       "      <th>Close</th>\n",
       "      <th>Volume</th>\n",
       "    </tr>\n",
       "    <tr>\n",
       "      <th>Date</th>\n",
       "      <th></th>\n",
       "      <th></th>\n",
       "      <th></th>\n",
       "      <th></th>\n",
       "      <th></th>\n",
       "    </tr>\n",
       "  </thead>\n",
       "  <tbody>\n",
       "    <tr>\n",
       "      <th>2000-01-03</th>\n",
       "      <td>3.745536</td>\n",
       "      <td>4.017857</td>\n",
       "      <td>3.631696</td>\n",
       "      <td>3.997768</td>\n",
       "      <td>133949200</td>\n",
       "    </tr>\n",
       "    <tr>\n",
       "      <th>2000-01-04</th>\n",
       "      <td>3.866071</td>\n",
       "      <td>3.950893</td>\n",
       "      <td>3.613839</td>\n",
       "      <td>3.660714</td>\n",
       "      <td>128094400</td>\n",
       "    </tr>\n",
       "    <tr>\n",
       "      <th>2000-01-05</th>\n",
       "      <td>3.705357</td>\n",
       "      <td>3.948661</td>\n",
       "      <td>3.678571</td>\n",
       "      <td>3.714286</td>\n",
       "      <td>194580400</td>\n",
       "    </tr>\n",
       "    <tr>\n",
       "      <th>2000-01-06</th>\n",
       "      <td>3.790179</td>\n",
       "      <td>3.821429</td>\n",
       "      <td>3.392857</td>\n",
       "      <td>3.392857</td>\n",
       "      <td>191993200</td>\n",
       "    </tr>\n",
       "    <tr>\n",
       "      <th>2000-01-07</th>\n",
       "      <td>3.446429</td>\n",
       "      <td>3.607143</td>\n",
       "      <td>3.410714</td>\n",
       "      <td>3.553571</td>\n",
       "      <td>115183600</td>\n",
       "    </tr>\n",
       "  </tbody>\n",
       "</table>\n",
       "</div>"
      ],
      "text/plain": [
       "                Open      High       Low     Close     Volume\n",
       "Date                                                         \n",
       "2000-01-03  3.745536  4.017857  3.631696  3.997768  133949200\n",
       "2000-01-04  3.866071  3.950893  3.613839  3.660714  128094400\n",
       "2000-01-05  3.705357  3.948661  3.678571  3.714286  194580400\n",
       "2000-01-06  3.790179  3.821429  3.392857  3.392857  191993200\n",
       "2000-01-07  3.446429  3.607143  3.410714  3.553571  115183600"
      ]
     },
     "execution_count": 168,
     "metadata": {},
     "output_type": "execute_result"
    }
   ],
   "source": [
    "train_data.head()"
   ]
  },
  {
   "cell_type": "code",
   "execution_count": 169,
   "metadata": {},
   "outputs": [
    {
     "data": {
      "text/html": [
       "<div>\n",
       "<style scoped>\n",
       "    .dataframe tbody tr th:only-of-type {\n",
       "        vertical-align: middle;\n",
       "    }\n",
       "\n",
       "    .dataframe tbody tr th {\n",
       "        vertical-align: top;\n",
       "    }\n",
       "\n",
       "    .dataframe thead th {\n",
       "        text-align: right;\n",
       "    }\n",
       "</style>\n",
       "<table border=\"1\" class=\"dataframe\">\n",
       "  <thead>\n",
       "    <tr style=\"text-align: right;\">\n",
       "      <th></th>\n",
       "      <th>Open</th>\n",
       "      <th>High</th>\n",
       "      <th>Low</th>\n",
       "      <th>Close</th>\n",
       "      <th>Volume</th>\n",
       "    </tr>\n",
       "    <tr>\n",
       "      <th>Date</th>\n",
       "      <th></th>\n",
       "      <th></th>\n",
       "      <th></th>\n",
       "      <th></th>\n",
       "      <th></th>\n",
       "    </tr>\n",
       "  </thead>\n",
       "  <tbody>\n",
       "    <tr>\n",
       "      <th>2015-01-02</th>\n",
       "      <td>111.389999</td>\n",
       "      <td>111.440002</td>\n",
       "      <td>107.349998</td>\n",
       "      <td>109.330002</td>\n",
       "      <td>53204600</td>\n",
       "    </tr>\n",
       "    <tr>\n",
       "      <th>2015-01-05</th>\n",
       "      <td>108.290001</td>\n",
       "      <td>108.650002</td>\n",
       "      <td>105.410004</td>\n",
       "      <td>106.250000</td>\n",
       "      <td>64285500</td>\n",
       "    </tr>\n",
       "    <tr>\n",
       "      <th>2015-01-06</th>\n",
       "      <td>106.540001</td>\n",
       "      <td>107.430000</td>\n",
       "      <td>104.629997</td>\n",
       "      <td>106.260002</td>\n",
       "      <td>65797100</td>\n",
       "    </tr>\n",
       "    <tr>\n",
       "      <th>2015-01-07</th>\n",
       "      <td>107.199997</td>\n",
       "      <td>108.199997</td>\n",
       "      <td>106.699997</td>\n",
       "      <td>107.750000</td>\n",
       "      <td>40105900</td>\n",
       "    </tr>\n",
       "    <tr>\n",
       "      <th>2015-01-08</th>\n",
       "      <td>109.230003</td>\n",
       "      <td>112.150002</td>\n",
       "      <td>108.699997</td>\n",
       "      <td>111.889999</td>\n",
       "      <td>59364500</td>\n",
       "    </tr>\n",
       "  </tbody>\n",
       "</table>\n",
       "</div>"
      ],
      "text/plain": [
       "                  Open        High         Low       Close    Volume\n",
       "Date                                                                \n",
       "2015-01-02  111.389999  111.440002  107.349998  109.330002  53204600\n",
       "2015-01-05  108.290001  108.650002  105.410004  106.250000  64285500\n",
       "2015-01-06  106.540001  107.430000  104.629997  106.260002  65797100\n",
       "2015-01-07  107.199997  108.199997  106.699997  107.750000  40105900\n",
       "2015-01-08  109.230003  112.150002  108.699997  111.889999  59364500"
      ]
     },
     "execution_count": 169,
     "metadata": {},
     "output_type": "execute_result"
    }
   ],
   "source": [
    "test_data.head()"
   ]
  },
  {
   "cell_type": "code",
   "execution_count": 170,
   "metadata": {},
   "outputs": [
    {
     "data": {
      "text/plain": [
       "array([[0.0238096 , 0.02588814, 0.02324647, 0.02592369, 0.0672496 ],\n",
       "       [0.02482813, 0.0253245 , 0.02309403, 0.02306882, 0.06407726],\n",
       "       [0.02347008, 0.02530572, 0.02364663, 0.02352258, 0.1001018 ],\n",
       "       ...,\n",
       "       [0.95369362, 0.95808356, 0.96286535, 0.95688741, 0.00962513],\n",
       "       [0.95242609, 0.95092915, 0.94929205, 0.94511396, 0.01086193],\n",
       "       [0.94549704, 0.94427975, 0.93307232, 0.92698802, 0.01710491]])"
      ]
     },
     "execution_count": 170,
     "metadata": {},
     "output_type": "execute_result"
    }
   ],
   "source": [
    "'''\n",
    "Scaling the dataset puts the values in a range.\n",
    "The minmax scaler uses a range between 0 and 1\n",
    "'''\n",
    "scaler = MinMaxScaler()\n",
    "train_data = scaler.fit_transform(train_data)\n",
    "train_data"
   ]
  },
  {
   "cell_type": "code",
   "execution_count": 171,
   "metadata": {},
   "outputs": [],
   "source": [
    "#Dividing our training set into 7 days\n",
    "X_train = []\n",
    "y_train = []\n",
    "\n",
    "for i in range(7,len(train_data)):\n",
    "    X_train.append(train_data[i-7:i])\n",
    "    y_train.append(train_data[i,0])"
   ]
  },
  {
   "cell_type": "code",
   "execution_count": 172,
   "metadata": {},
   "outputs": [
    {
     "data": {
      "text/plain": [
       "((3766, 7, 5), (3766,))"
      ]
     },
     "execution_count": 172,
     "metadata": {},
     "output_type": "execute_result"
    }
   ],
   "source": [
    "#using numpy array because they are faster incomparison with list\n",
    "X_train, y_train = np.array(X_train), np.array(y_train)\n",
    "X_train.shape, y_train.shape"
   ]
  },
  {
   "cell_type": "markdown",
   "metadata": {},
   "source": [
    "#### Building LSTM Model"
   ]
  },
  {
   "cell_type": "code",
   "execution_count": 173,
   "metadata": {},
   "outputs": [],
   "source": [
    "'''\n",
    "To use the model, we have to instantiate the model,\n",
    "the add different layers which accept differnt parameters.\n",
    "Dropout is used to aviod overfitting.\n",
    "'''\n",
    "model = Sequential()\n",
    "\n",
    "#first layer\n",
    "model.add(LSTM(units=64, activation='relu', return_sequences=True,\n",
    "              input_shape=(X_train.shape[1],5)))\n",
    "model.add(Dropout(0.3))\n",
    "\n",
    "#second layer\n",
    "model.add(LSTM(units=80, activation='relu', return_sequences=True))\n",
    "model.add(Dropout(0.25))\n",
    "\n",
    "#third layer\n",
    "model.add(LSTM(units=64, activation='relu', return_sequences=True))\n",
    "model.add(Dropout(0.3))\n",
    "#fourth layer     \n",
    "model.add(LSTM(units=120, activation='relu'))\n",
    "model.add(Dropout(0.5))\n",
    "#last layer       \n",
    "model.add(Dense(units=1))"
   ]
  },
  {
   "cell_type": "code",
   "execution_count": 174,
   "metadata": {},
   "outputs": [
    {
     "name": "stdout",
     "output_type": "stream",
     "text": [
      "_________________________________________________________________\n",
      "Layer (type)                 Output Shape              Param #   \n",
      "=================================================================\n",
      "lstm_25 (LSTM)               (None, 7, 64)             17920     \n",
      "_________________________________________________________________\n",
      "dropout_25 (Dropout)         (None, 7, 64)             0         \n",
      "_________________________________________________________________\n",
      "lstm_26 (LSTM)               (None, 7, 80)             46400     \n",
      "_________________________________________________________________\n",
      "dropout_26 (Dropout)         (None, 7, 80)             0         \n",
      "_________________________________________________________________\n",
      "lstm_27 (LSTM)               (None, 7, 64)             37120     \n",
      "_________________________________________________________________\n",
      "dropout_27 (Dropout)         (None, 7, 64)             0         \n",
      "_________________________________________________________________\n",
      "lstm_28 (LSTM)               (None, 120)               88800     \n",
      "_________________________________________________________________\n",
      "dropout_28 (Dropout)         (None, 120)               0         \n",
      "_________________________________________________________________\n",
      "dense_7 (Dense)              (None, 1)                 121       \n",
      "=================================================================\n",
      "Total params: 190,361\n",
      "Trainable params: 190,361\n",
      "Non-trainable params: 0\n",
      "_________________________________________________________________\n"
     ]
    }
   ],
   "source": [
    "#the .summary() method displays the details of the arc.\n",
    "model.summary()"
   ]
  },
  {
   "cell_type": "code",
   "execution_count": 175,
   "metadata": {},
   "outputs": [],
   "source": [
    "#compiling our model allow us to chose the optimizer,loss and other parameters\n",
    "model.compile(optimizer='adam',loss='mse',metrics=['accuracy'])"
   ]
  },
  {
   "cell_type": "code",
   "execution_count": 176,
   "metadata": {},
   "outputs": [
    {
     "name": "stdout",
     "output_type": "stream",
     "text": [
      "Epoch 1/10\n",
      "3766/3766 [==============================] - 13s 3ms/step - loss: 0.0209 - acc: 2.6553e-04\n",
      "Epoch 2/10\n",
      "3766/3766 [==============================] - 5s 1ms/step - loss: 0.0039 - acc: 5.3107e-04\n",
      "Epoch 3/10\n",
      "3766/3766 [==============================] - 5s 1ms/step - loss: 0.0033 - acc: 5.3107e-04A: 1s - loss: 0.0035 - acc: 7.6220e-0 - ETA: 1s - loss: 0\n",
      "Epoch 4/10\n",
      "3766/3766 [==============================] - 5s 1ms/step - loss: 0.0030 - acc: 5.3107e-04\n",
      "Epoch 5/10\n",
      "3766/3766 [==============================] - 5s 1ms/step - loss: 0.0028 - acc: 5.3107e-04\n",
      "Epoch 6/10\n",
      "3766/3766 [==============================] - 5s 1ms/step - loss: 0.0027 - acc: 5.3107e-04\n",
      "Epoch 7/10\n",
      "3766/3766 [==============================] - 5s 1ms/step - loss: 0.0029 - acc: 5.3107e-04\n",
      "Epoch 8/10\n",
      "3766/3766 [==============================] - 5s 1ms/step - loss: 0.0024 - acc: 5.3107e-04\n",
      "Epoch 9/10\n",
      "3766/3766 [==============================] - 5s 1ms/step - loss: 0.0027 - acc: 5.3107e-04\n",
      "Epoch 10/10\n",
      "3766/3766 [==============================] - 5s 1ms/step - loss: 0.0026 - acc: 5.3107e-04\n"
     ]
    },
    {
     "data": {
      "text/plain": [
       "<keras.callbacks.History at 0x226fbe51648>"
      ]
     },
     "execution_count": 176,
     "metadata": {},
     "output_type": "execute_result"
    }
   ],
   "source": [
    "#training the LSTM model with 10 epochs and batch size of 32\n",
    "model.fit(X_train,y_train, epochs=10,batch_size=32)"
   ]
  },
  {
   "cell_type": "code",
   "execution_count": 177,
   "metadata": {},
   "outputs": [
    {
     "data": {
      "text/html": [
       "<div>\n",
       "<style scoped>\n",
       "    .dataframe tbody tr th:only-of-type {\n",
       "        vertical-align: middle;\n",
       "    }\n",
       "\n",
       "    .dataframe tbody tr th {\n",
       "        vertical-align: top;\n",
       "    }\n",
       "\n",
       "    .dataframe thead th {\n",
       "        text-align: right;\n",
       "    }\n",
       "</style>\n",
       "<table border=\"1\" class=\"dataframe\">\n",
       "  <thead>\n",
       "    <tr style=\"text-align: right;\">\n",
       "      <th></th>\n",
       "      <th>Open</th>\n",
       "      <th>High</th>\n",
       "      <th>Low</th>\n",
       "      <th>Close</th>\n",
       "      <th>Volume</th>\n",
       "    </tr>\n",
       "    <tr>\n",
       "      <th>Date</th>\n",
       "      <th></th>\n",
       "      <th></th>\n",
       "      <th></th>\n",
       "      <th></th>\n",
       "      <th></th>\n",
       "    </tr>\n",
       "  </thead>\n",
       "  <tbody>\n",
       "    <tr>\n",
       "      <th>2015-01-02</th>\n",
       "      <td>111.389999</td>\n",
       "      <td>111.440002</td>\n",
       "      <td>107.349998</td>\n",
       "      <td>109.330002</td>\n",
       "      <td>53204600</td>\n",
       "    </tr>\n",
       "    <tr>\n",
       "      <th>2015-01-05</th>\n",
       "      <td>108.290001</td>\n",
       "      <td>108.650002</td>\n",
       "      <td>105.410004</td>\n",
       "      <td>106.250000</td>\n",
       "      <td>64285500</td>\n",
       "    </tr>\n",
       "    <tr>\n",
       "      <th>2015-01-06</th>\n",
       "      <td>106.540001</td>\n",
       "      <td>107.430000</td>\n",
       "      <td>104.629997</td>\n",
       "      <td>106.260002</td>\n",
       "      <td>65797100</td>\n",
       "    </tr>\n",
       "    <tr>\n",
       "      <th>2015-01-07</th>\n",
       "      <td>107.199997</td>\n",
       "      <td>108.199997</td>\n",
       "      <td>106.699997</td>\n",
       "      <td>107.750000</td>\n",
       "      <td>40105900</td>\n",
       "    </tr>\n",
       "    <tr>\n",
       "      <th>2015-01-08</th>\n",
       "      <td>109.230003</td>\n",
       "      <td>112.150002</td>\n",
       "      <td>108.699997</td>\n",
       "      <td>111.889999</td>\n",
       "      <td>59364500</td>\n",
       "    </tr>\n",
       "  </tbody>\n",
       "</table>\n",
       "</div>"
      ],
      "text/plain": [
       "                  Open        High         Low       Close    Volume\n",
       "Date                                                                \n",
       "2015-01-02  111.389999  111.440002  107.349998  109.330002  53204600\n",
       "2015-01-05  108.290001  108.650002  105.410004  106.250000  64285500\n",
       "2015-01-06  106.540001  107.430000  104.629997  106.260002  65797100\n",
       "2015-01-07  107.199997  108.199997  106.699997  107.750000  40105900\n",
       "2015-01-08  109.230003  112.150002  108.699997  111.889999  59364500"
      ]
     },
     "execution_count": 177,
     "metadata": {},
     "output_type": "execute_result"
    }
   ],
   "source": [
    "test_data.head()"
   ]
  },
  {
   "cell_type": "code",
   "execution_count": 178,
   "metadata": {},
   "outputs": [],
   "source": [
    "#test = test.drop(['Date','Adj Close'], axis=1)\n",
    "test = scaler.fit_transform(test_data)"
   ]
  },
  {
   "cell_type": "code",
   "execution_count": 179,
   "metadata": {},
   "outputs": [],
   "source": [
    "#breaking the test data into 7 days as well\n",
    "X_test = []\n",
    "y_test = []\n",
    "\n",
    "for i in range(7, test.shape[0]):\n",
    "    X_test.append(test[i-7:i])\n",
    "    y_test.append(test[i,0])"
   ]
  },
  {
   "cell_type": "code",
   "execution_count": 180,
   "metadata": {},
   "outputs": [
    {
     "data": {
      "text/plain": [
       "((1398, 7, 5), (1398,))"
      ]
     },
     "execution_count": 180,
     "metadata": {},
     "output_type": "execute_result"
    }
   ],
   "source": [
    "X_test,y_test = np.array(X_test), np.array(y_test)\n",
    "X_test.shape,y_test.shape"
   ]
  },
  {
   "cell_type": "code",
   "execution_count": 181,
   "metadata": {},
   "outputs": [],
   "source": [
    "#predicting the 7 days price\n",
    "y_pred = model.predict(X_test)"
   ]
  },
  {
   "cell_type": "code",
   "execution_count": 182,
   "metadata": {},
   "outputs": [
    {
     "data": {
      "text/plain": [
       "0.0031100328792987002"
      ]
     },
     "execution_count": 182,
     "metadata": {},
     "output_type": "execute_result"
    }
   ],
   "source": [
    "scaler.scale_[0]"
   ]
  },
  {
   "cell_type": "code",
   "execution_count": 183,
   "metadata": {},
   "outputs": [],
   "source": [
    "scale = 1/scaler.scale_[0]"
   ]
  },
  {
   "cell_type": "code",
   "execution_count": 184,
   "metadata": {},
   "outputs": [],
   "source": [
    "#Getting the original price before scaling\n",
    "y_pred = y_pred * scale\n",
    "y_test = y_test* scale"
   ]
  },
  {
   "cell_type": "code",
   "execution_count": 185,
   "metadata": {},
   "outputs": [
    {
     "data": {
      "text/plain": [
       "array([[ 27.732498],\n",
       "       [ 26.587158],\n",
       "       [ 28.80668 ],\n",
       "       ...,\n",
       "       [279.984   ],\n",
       "       [276.83224 ],\n",
       "       [273.0698  ]], dtype=float32)"
      ]
     },
     "execution_count": 185,
     "metadata": {},
     "output_type": "execute_result"
    }
   ],
   "source": [
    "y_pred"
   ]
  },
  {
   "cell_type": "code",
   "execution_count": 186,
   "metadata": {},
   "outputs": [
    {
     "data": {
      "image/png": "[encoded data removed]",
      "text/plain": [
       "<Figure size 1008x360 with 1 Axes>"
      ]
     },
     "metadata": {
      "needs_background": "light"
     },
     "output_type": "display_data"
    }
   ],
   "source": [
    "plt.figure(figsize=(14,5))\n",
    "plt.plot(y_test,label='Actual')\n",
    "plt.plot(y_pred,label='Predicted')\n",
    "plt.xlabel('Time')\n",
    "plt.ylabel('Stock Price')\n",
    "plt.legend()\n",
    "#plt.xlim('2018-01', '2020-08')\n",
    "plt.show()"
   ]
  },
  {
   "cell_type": "code",
   "execution_count": 187,
   "metadata": {},
   "outputs": [
    {
     "name": "stdout",
     "output_type": "stream",
     "text": [
      "8.747\n"
     ]
    }
   ],
   "source": [
    "#importing mean_squared_error from sklearn\n",
    "from sklearn.metrics import mean_squared_error\n",
    "'''\n",
    "    calculating the root mean_squared_error\n",
    "    of the regression problem, a lower number\n",
    "    tells us how well our model is doing as we\n",
    "    experimentally train our model.\n",
    "'''\n",
    "rmse = np.sqrt(mean_squared_error(y_test,y_pred))\n",
    "print(round(rmse,3))"
   ]
  },
  {
   "cell_type": "code",
   "execution_count": null,
   "metadata": {},
   "outputs": [],
   "source": []
  }
 ],
 "metadata": {
  "kernelspec": {
   "display_name": "Python 3",
   "language": "python",
   "name": "python3"
  },
  "language_info": {
   "codemirror_mode": {
    "name": "ipython",
    "version": 3
   },
   "file_extension": ".py",
   "mimetype": "text/x-python",
   "name": "python",
   "nbconvert_exporter": "python",
   "pygments_lexer": "ipython3",
   "version": "3.7.6"
  }
 },
 "nbformat": 4,
 "nbformat_minor": 4
}
